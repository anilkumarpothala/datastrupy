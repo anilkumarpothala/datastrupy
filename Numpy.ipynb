{
  "cells": [
    {
      "cell_type": "code",
      "execution_count": null,
      "id": "3e764b2b-e366-4333-86a0-a5495a7b46c9",
      "metadata": {
        "id": "3e764b2b-e366-4333-86a0-a5495a7b46c9"
      },
      "outputs": [],
      "source": [
        "import numpy as np\n",
        "import random"
      ]
    },
    {
      "cell_type": "markdown",
      "id": "fbd22c07-cba0-4bbf-bf2f-d57db449157e",
      "metadata": {
        "id": "fbd22c07-cba0-4bbf-bf2f-d57db449157e"
      },
      "source": [
        "Creating numpy arrays"
      ]
    },
    {
      "cell_type": "code",
      "execution_count": null,
      "id": "2761ca9c-d89e-4315-95b2-4a7d06a33efa",
      "metadata": {
        "id": "2761ca9c-d89e-4315-95b2-4a7d06a33efa"
      },
      "outputs": [],
      "source": [
        "#Creating an array with random integers\n",
        "arr1=np.random.randint(1,100,10)"
      ]
    },
    {
      "cell_type": "code",
      "execution_count": null,
      "id": "5c24d411-7424-411c-a99c-1bb56416c661",
      "metadata": {
        "colab": {
          "base_uri": "https://localhost:8080/"
        },
        "id": "5c24d411-7424-411c-a99c-1bb56416c661",
        "outputId": "ed078e4c-8545-4b6f-c691-daa6dcdd1850"
      },
      "outputs": [
        {
          "output_type": "execute_result",
          "data": {
            "text/plain": [
              "array([77, 98, 37, 89, 11,  4, 18, 22, 81, 25])"
            ]
          },
          "metadata": {},
          "execution_count": 3
        }
      ],
      "source": [
        "arr1"
      ]
    },
    {
      "cell_type": "code",
      "execution_count": null,
      "id": "0f317964-d8d8-41e9-a251-0e1340e18389",
      "metadata": {
        "id": "0f317964-d8d8-41e9-a251-0e1340e18389"
      },
      "outputs": [],
      "source": [
        "#Creating an array with random integers\n",
        "arr2=np.random.randint(1,500,10)"
      ]
    },
    {
      "cell_type": "code",
      "execution_count": null,
      "id": "b0250708-6032-4104-a671-9242daef0a82",
      "metadata": {
        "colab": {
          "base_uri": "https://localhost:8080/"
        },
        "id": "b0250708-6032-4104-a671-9242daef0a82",
        "outputId": "3b1f3bf3-5b20-4d19-815a-9d51fb453ad2"
      },
      "outputs": [
        {
          "output_type": "execute_result",
          "data": {
            "text/plain": [
              "array([339, 168, 464, 270, 128, 200,  72, 353, 480, 265])"
            ]
          },
          "metadata": {},
          "execution_count": 5
        }
      ],
      "source": [
        "arr2"
      ]
    },
    {
      "cell_type": "markdown",
      "id": "16d07a9b-2d41-4daa-aa58-537b70b6793c",
      "metadata": {
        "id": "16d07a9b-2d41-4daa-aa58-537b70b6793c"
      },
      "source": [
        "Basic Operations on arrays"
      ]
    },
    {
      "cell_type": "code",
      "execution_count": null,
      "id": "d8a11c9e-5e4b-421b-8414-6259b913e8f0",
      "metadata": {
        "id": "d8a11c9e-5e4b-421b-8414-6259b913e8f0",
        "outputId": "afec1372-49a8-4c55-e3d3-387ab1ff15b8"
      },
      "outputs": [
        {
          "data": {
            "text/plain": [
              "1"
            ]
          },
          "execution_count": 8,
          "metadata": {},
          "output_type": "execute_result"
        }
      ],
      "source": [
        "#Return no.of dimensions(axes) of the array\n",
        "arr1.ndim"
      ]
    },
    {
      "cell_type": "code",
      "execution_count": null,
      "id": "7311bb49-6543-4e4b-bcf4-6be95733f3b7",
      "metadata": {
        "id": "7311bb49-6543-4e4b-bcf4-6be95733f3b7",
        "outputId": "c4ccfc17-4858-4c39-d022-96f08d2f0651"
      },
      "outputs": [
        {
          "data": {
            "text/plain": [
              "(10,)"
            ]
          },
          "execution_count": 9,
          "metadata": {},
          "output_type": "execute_result"
        }
      ],
      "source": [
        "#Returns the tuple of integers indicating the size of array in each dimension\n",
        "arr1.shape"
      ]
    },
    {
      "cell_type": "code",
      "execution_count": null,
      "id": "a6e3cba7-0dd3-45a0-a529-8dcb1a53f5bb",
      "metadata": {
        "id": "a6e3cba7-0dd3-45a0-a529-8dcb1a53f5bb",
        "outputId": "3e2c8d13-00e3-41dc-cae7-f6e582116806"
      },
      "outputs": [
        {
          "data": {
            "text/plain": [
              "10"
            ]
          },
          "execution_count": 10,
          "metadata": {},
          "output_type": "execute_result"
        }
      ],
      "source": [
        "#Returns the size of the array\n",
        "arr1.size"
      ]
    },
    {
      "cell_type": "code",
      "execution_count": null,
      "id": "9bde7ad6-c2de-4d37-ab4b-d1fa10cf2121",
      "metadata": {
        "id": "9bde7ad6-c2de-4d37-ab4b-d1fa10cf2121",
        "outputId": "c2454ac4-c2c9-4b43-b6bd-ae478c802213"
      },
      "outputs": [
        {
          "data": {
            "text/plain": [
              "dtype('int32')"
            ]
          },
          "execution_count": 11,
          "metadata": {},
          "output_type": "execute_result"
        }
      ],
      "source": [
        "#Returs the data type of the array\n",
        "arr1.dtype"
      ]
    },
    {
      "cell_type": "code",
      "execution_count": null,
      "id": "0d01abfe-5d12-4805-b65d-94e88d54f0da",
      "metadata": {
        "id": "0d01abfe-5d12-4805-b65d-94e88d54f0da",
        "outputId": "f2524ae0-281c-40a6-a95e-861886265985"
      },
      "outputs": [
        {
          "data": {
            "text/plain": [
              "4"
            ]
          },
          "execution_count": 12,
          "metadata": {},
          "output_type": "execute_result"
        }
      ],
      "source": [
        "#Return the size of each element in the array\n",
        "arr1.itemsize"
      ]
    },
    {
      "cell_type": "code",
      "execution_count": null,
      "id": "7a430a95-c265-4dc0-9862-8c9ba0e2a675",
      "metadata": {
        "id": "7a430a95-c265-4dc0-9862-8c9ba0e2a675",
        "outputId": "53447aa9-2cf8-4317-a921-2a3117d1ef94"
      },
      "outputs": [
        {
          "data": {
            "text/plain": [
              "40"
            ]
          },
          "execution_count": 13,
          "metadata": {},
          "output_type": "execute_result"
        }
      ],
      "source": [
        "#return the total number of bytes for all elements in the array\n",
        "arr1.nbytes"
      ]
    },
    {
      "cell_type": "markdown",
      "id": "0073e913-2f5a-414a-b253-6f6e8b8bbe4e",
      "metadata": {
        "id": "0073e913-2f5a-414a-b253-6f6e8b8bbe4e"
      },
      "source": [
        "Data manipulation"
      ]
    },
    {
      "cell_type": "code",
      "execution_count": null,
      "id": "b7671d13-7552-4dcf-9208-5efc41d20c30",
      "metadata": {
        "id": "b7671d13-7552-4dcf-9208-5efc41d20c30",
        "outputId": "06e4cc93-185c-4312-cfc3-a64f1c9cf4fb"
      },
      "outputs": [
        {
          "data": {
            "text/plain": [
              "83"
            ]
          },
          "execution_count": 15,
          "metadata": {},
          "output_type": "execute_result"
        }
      ],
      "source": [
        "#indexing\n",
        "arr1[2]"
      ]
    },
    {
      "cell_type": "code",
      "execution_count": null,
      "id": "1779f21d-a6d9-4dee-af6d-d021a6f6a377",
      "metadata": {
        "id": "1779f21d-a6d9-4dee-af6d-d021a6f6a377",
        "outputId": "9f44feae-f7d2-4fad-c8aa-8d90ff8cd51b"
      },
      "outputs": [
        {
          "data": {
            "text/plain": [
              "60"
            ]
          },
          "execution_count": 16,
          "metadata": {},
          "output_type": "execute_result"
        }
      ],
      "source": [
        "arr2[4]"
      ]
    },
    {
      "cell_type": "code",
      "execution_count": null,
      "id": "f7c7ab87-8817-4821-b813-a5aa22f632fe",
      "metadata": {
        "id": "f7c7ab87-8817-4821-b813-a5aa22f632fe"
      },
      "outputs": [],
      "source": [
        "#Slicing"
      ]
    },
    {
      "cell_type": "code",
      "execution_count": null,
      "id": "e842fbf8-b71c-4e67-9fae-f1a16ecafe4e",
      "metadata": {
        "id": "e842fbf8-b71c-4e67-9fae-f1a16ecafe4e",
        "outputId": "d1dc472d-61e5-4260-960b-868caea2dccd"
      },
      "outputs": [
        {
          "data": {
            "text/plain": [
              "array([25, 83, 86])"
            ]
          },
          "execution_count": 18,
          "metadata": {},
          "output_type": "execute_result"
        }
      ],
      "source": [
        "arr1[1:4]"
      ]
    },
    {
      "cell_type": "code",
      "execution_count": null,
      "id": "f8f5e4e6-153d-4e29-9aeb-c94a5f74be25",
      "metadata": {
        "id": "f8f5e4e6-153d-4e29-9aeb-c94a5f74be25",
        "outputId": "94ed1f5d-76c8-4fed-8b81-76ada2567ffe"
      },
      "outputs": [
        {
          "data": {
            "text/plain": [
              "array([268, 274, 173,  60,  87])"
            ]
          },
          "execution_count": 19,
          "metadata": {},
          "output_type": "execute_result"
        }
      ],
      "source": [
        "arr2[1:6]"
      ]
    },
    {
      "cell_type": "code",
      "execution_count": null,
      "id": "8cf1df6b-9b59-4c7d-baec-754444617b28",
      "metadata": {
        "id": "8cf1df6b-9b59-4c7d-baec-754444617b28"
      },
      "outputs": [],
      "source": [
        "#Creating a 2d array using replalce\n",
        "arr2d=np.arange(0,20,2).reshape(2,5)"
      ]
    },
    {
      "cell_type": "code",
      "execution_count": null,
      "id": "70ffddb5-c846-43d2-8189-98fca1d53041",
      "metadata": {
        "id": "70ffddb5-c846-43d2-8189-98fca1d53041",
        "outputId": "3e45aee6-45a9-425d-843e-cf409baa907b"
      },
      "outputs": [
        {
          "data": {
            "text/plain": [
              "array([[ 0,  2,  4,  6,  8],\n",
              "       [10, 12, 14, 16, 18]])"
            ]
          },
          "execution_count": 21,
          "metadata": {},
          "output_type": "execute_result"
        }
      ],
      "source": [
        "arr2d"
      ]
    },
    {
      "cell_type": "code",
      "execution_count": null,
      "id": "2197787b-1bce-42f0-a9f7-da01d2a0fefa",
      "metadata": {
        "id": "2197787b-1bce-42f0-a9f7-da01d2a0fefa",
        "outputId": "daf8e03f-2fc1-4146-b935-db587eb2f73d"
      },
      "outputs": [
        {
          "data": {
            "text/plain": [
              "array([[0, 2, 4, 6, 8]])"
            ]
          },
          "execution_count": 22,
          "metadata": {},
          "output_type": "execute_result"
        }
      ],
      "source": [
        "#indexing a 2d array the : left side represents the rows and right side represents the columns\n",
        "arr2d[:1]"
      ]
    },
    {
      "cell_type": "code",
      "execution_count": null,
      "id": "8a59be91-b6e3-475e-9e7b-101ef82b8b41",
      "metadata": {
        "id": "8a59be91-b6e3-475e-9e7b-101ef82b8b41"
      },
      "outputs": [],
      "source": [
        "arr2d1=np.arange(0,40,4).reshape(2,5)"
      ]
    },
    {
      "cell_type": "code",
      "execution_count": null,
      "id": "c869dae4-d15c-4a7d-bebf-41c20adff7bf",
      "metadata": {
        "id": "c869dae4-d15c-4a7d-bebf-41c20adff7bf",
        "outputId": "64b52125-3287-41b0-e427-44dba22ba29b"
      },
      "outputs": [
        {
          "data": {
            "text/plain": [
              "array([[ 0,  4,  8, 12, 16],\n",
              "       [20, 24, 28, 32, 36]])"
            ]
          },
          "execution_count": 68,
          "metadata": {},
          "output_type": "execute_result"
        }
      ],
      "source": [
        "arr2d1"
      ]
    },
    {
      "cell_type": "code",
      "execution_count": null,
      "id": "dc4fc12c-bc1b-45df-9eb5-1020115aea8f",
      "metadata": {
        "id": "dc4fc12c-bc1b-45df-9eb5-1020115aea8f"
      },
      "outputs": [],
      "source": [
        "T_arr=arr2d1.T"
      ]
    },
    {
      "cell_type": "markdown",
      "id": "ad7b573c-53fb-425b-b5f3-03abb86af214",
      "metadata": {
        "id": "ad7b573c-53fb-425b-b5f3-03abb86af214"
      },
      "source": [
        "Mathematical Operations"
      ]
    },
    {
      "cell_type": "code",
      "execution_count": null,
      "id": "00c00f90-11dd-43ab-b9f9-57d05b0fbdd8",
      "metadata": {
        "id": "00c00f90-11dd-43ab-b9f9-57d05b0fbdd8",
        "outputId": "92b11717-d90e-4dad-c276-c45b4ef74a40"
      },
      "outputs": [
        {
          "data": {
            "text/plain": [
              "array([ 71, 293, 357, 259, 128,  88,  53, 399,  89,  32])"
            ]
          },
          "execution_count": 25,
          "metadata": {},
          "output_type": "execute_result"
        }
      ],
      "source": [
        "#Addition\n",
        "arr1+arr2"
      ]
    },
    {
      "cell_type": "code",
      "execution_count": null,
      "id": "51dba4ca-558e-4657-b01a-059431067d20",
      "metadata": {
        "id": "51dba4ca-558e-4657-b01a-059431067d20",
        "outputId": "861564d7-63a4-42bf-f532-5cd053bc38f7"
      },
      "outputs": [
        {
          "data": {
            "text/plain": [
              "array([  3, 243, 191,  87,  -8,  86,  25, 235, -29,  22])"
            ]
          },
          "execution_count": 26,
          "metadata": {},
          "output_type": "execute_result"
        }
      ],
      "source": [
        "#Subtraction\n",
        "arr2-arr1"
      ]
    },
    {
      "cell_type": "code",
      "execution_count": null,
      "id": "9f7a8572-bbbc-45fe-bae8-f00921f50761",
      "metadata": {
        "id": "9f7a8572-bbbc-45fe-bae8-f00921f50761",
        "outputId": "80d624e0-8fe6-4b83-fa42-1d1986a77a22"
      },
      "outputs": [
        {
          "data": {
            "text/plain": [
              "array([ 1258,  6700, 22742, 14878,  4080,    87,   546, 25994,  1770,\n",
              "         135])"
            ]
          },
          "execution_count": 27,
          "metadata": {},
          "output_type": "execute_result"
        }
      ],
      "source": [
        "#multiplication\n",
        "arr1*arr2"
      ]
    },
    {
      "cell_type": "code",
      "execution_count": null,
      "id": "f1be7a65-1ed0-4f91-9679-a57f481d4ac0",
      "metadata": {
        "id": "f1be7a65-1ed0-4f91-9679-a57f481d4ac0",
        "outputId": "c9ae8c8a-836f-4e0d-c93d-1de1cfb9d9af"
      },
      "outputs": [
        {
          "data": {
            "text/plain": [
              "array([ 1.08823529, 10.72      ,  3.30120482,  2.01162791,  0.88235294,\n",
              "       87.        ,  2.78571429,  3.86585366,  0.50847458,  5.4       ])"
            ]
          },
          "execution_count": 28,
          "metadata": {},
          "output_type": "execute_result"
        }
      ],
      "source": [
        "#division\n",
        "arr2/arr1"
      ]
    },
    {
      "cell_type": "code",
      "execution_count": null,
      "id": "23f014fd-f5c6-4e90-a1d4-6f3e7127c312",
      "metadata": {
        "id": "23f014fd-f5c6-4e90-a1d4-6f3e7127c312",
        "outputId": "6d27a48a-c64a-43fe-864c-4bc4e4d18fec"
      },
      "outputs": [
        {
          "data": {
            "text/plain": [
              "array([  1369,  71824,  75076,  29929,   3600,   7569,   1521, 100489,\n",
              "          900,    729])"
            ]
          },
          "execution_count": 29,
          "metadata": {},
          "output_type": "execute_result"
        }
      ],
      "source": [
        "arr2 ** 2"
      ]
    },
    {
      "cell_type": "markdown",
      "id": "41be06ee-6025-457d-abfe-b2b6031bffac",
      "metadata": {
        "id": "41be06ee-6025-457d-abfe-b2b6031bffac"
      },
      "source": [
        "Matrix operation"
      ]
    },
    {
      "cell_type": "code",
      "execution_count": null,
      "id": "c336f82d-5238-4c72-a299-4ab66458d534",
      "metadata": {
        "id": "c336f82d-5238-4c72-a299-4ab66458d534",
        "outputId": "ffd5d0ef-4081-472d-ba31-8aad3680511e"
      },
      "outputs": [
        {
          "data": {
            "text/plain": [
              "array([[ 240,  640],\n",
              "       [ 640, 2040]])"
            ]
          },
          "execution_count": 81,
          "metadata": {},
          "output_type": "execute_result"
        }
      ],
      "source": [
        "#Matrix multiplication (Dot Product)\n",
        "np.dot(arr2d,T_arr)"
      ]
    },
    {
      "cell_type": "code",
      "execution_count": null,
      "id": "d27028b8-0cd1-4fdf-931d-9ace85f0ef0e",
      "metadata": {
        "id": "d27028b8-0cd1-4fdf-931d-9ace85f0ef0e",
        "outputId": "dd3084c6-bfc2-48ea-cf20-b348f2fd651a"
      },
      "outputs": [
        {
          "data": {
            "text/plain": [
              "array([[  0,   8,  32,  72, 128],\n",
              "       [200, 288, 392, 512, 648]])"
            ]
          },
          "execution_count": 95,
          "metadata": {},
          "output_type": "execute_result"
        }
      ],
      "source": [
        "#Matrix Multiplication\n",
        "arr2d*arr2d1"
      ]
    },
    {
      "cell_type": "code",
      "execution_count": null,
      "id": "49a21407-bdad-477b-a388-a821fb8dafa8",
      "metadata": {
        "id": "49a21407-bdad-477b-a388-a821fb8dafa8",
        "outputId": "20b6a27f-1ba6-4c4b-bba6-1fbeff7e025b"
      },
      "outputs": [
        {
          "data": {
            "text/plain": [
              "array([[ 0,  6, 12, 18, 24],\n",
              "       [30, 36, 42, 48, 54]])"
            ]
          },
          "execution_count": 97,
          "metadata": {},
          "output_type": "execute_result"
        }
      ],
      "source": [
        "#Matrix Additio\n",
        "arr2d+arr2d1"
      ]
    },
    {
      "cell_type": "code",
      "execution_count": null,
      "id": "2d9b5be5-a8d2-4a3d-ba54-ec7bfdbc843a",
      "metadata": {
        "id": "2d9b5be5-a8d2-4a3d-ba54-ec7bfdbc843a",
        "outputId": "bc9d76f5-da31-48c6-cf74-2e2ec0318504"
      },
      "outputs": [
        {
          "data": {
            "text/plain": [
              "array([[ 0,  2,  4,  6,  8],\n",
              "       [10, 12, 14, 16, 18]])"
            ]
          },
          "execution_count": 99,
          "metadata": {},
          "output_type": "execute_result"
        }
      ],
      "source": [
        "#Matrix Subtraction\n",
        "arr2d1-arr2d"
      ]
    },
    {
      "cell_type": "code",
      "execution_count": null,
      "id": "7b21968e-6467-4836-b8b2-afa31bc986d3",
      "metadata": {
        "id": "7b21968e-6467-4836-b8b2-afa31bc986d3",
        "outputId": "700f434d-df92-4450-ab70-a036821d3dc0"
      },
      "outputs": [
        {
          "data": {
            "text/plain": [
              "array([[nan,  2.,  2.,  2.,  2.],\n",
              "       [ 2.,  2.,  2.,  2.,  2.]])"
            ]
          },
          "execution_count": 101,
          "metadata": {},
          "output_type": "execute_result"
        }
      ],
      "source": [
        "#Matrix Division\n",
        "arr2d1/arr2d"
      ]
    },
    {
      "cell_type": "markdown",
      "id": "f78a6d5a-e890-4ac7-ae95-a9dd39f3cbc8",
      "metadata": {
        "id": "f78a6d5a-e890-4ac7-ae95-a9dd39f3cbc8"
      },
      "source": [
        "Numpy Aggregation Functions"
      ]
    },
    {
      "cell_type": "code",
      "execution_count": null,
      "id": "6e0011d9-7dc3-4ec8-a6cf-f35f316427af",
      "metadata": {
        "id": "6e0011d9-7dc3-4ec8-a6cf-f35f316427af",
        "outputId": "a7cf18c0-c723-4b4e-dab6-bc6c3ea08a96"
      },
      "outputs": [
        {
          "name": "stdout",
          "output_type": "stream",
          "text": [
            "Sum of all elements in the array\n",
            "395\n",
            "Sum along the 0th axis\n",
            "[10 14 18 22 26]\n",
            "Sum along the 1st axis\n",
            "[20 70]\n"
          ]
        }
      ],
      "source": [
        "#Sum function in numpy arrays\n",
        "print(\"Sum of all elements in the array\")\n",
        "print(np.sum(arr1))\n",
        "#Sum along the axis\n",
        "print(\"Sum along the 0th axis\")\n",
        "print(np.sum(arr2d,axis=0))\n",
        "print(\"Sum along the 1st axis\")\n",
        "print(np.sum(arr2d,axis=1))"
      ]
    },
    {
      "cell_type": "code",
      "execution_count": null,
      "id": "ed5ff02b-7aac-498c-9ca0-337a420e608b",
      "metadata": {
        "id": "ed5ff02b-7aac-498c-9ca0-337a420e608b",
        "outputId": "edf90236-1ae7-4ce2-e904-953b665cd884"
      },
      "outputs": [
        {
          "name": "stdout",
          "output_type": "stream",
          "text": [
            "Min value of the array\n",
            "4\n",
            "Max value of the array\n",
            "82\n"
          ]
        }
      ],
      "source": [
        "#Min value in the array\n",
        "print(\"Min value of the array\")\n",
        "print(np.min(arr1))\n",
        "#Max value of the array\n",
        "print(\"Max value of the array\")\n",
        "print(np.max(arr1))\n"
      ]
    },
    {
      "cell_type": "code",
      "execution_count": null,
      "id": "1c76cc0c-ebbb-474f-9cc5-a1fb24655a62",
      "metadata": {
        "id": "1c76cc0c-ebbb-474f-9cc5-a1fb24655a62",
        "outputId": "e0c52d20-1f8e-4134-e869-4caf38765184"
      },
      "outputs": [
        {
          "name": "stdout",
          "output_type": "stream",
          "text": [
            "Mean value of the array\n",
            "39.5\n"
          ]
        }
      ],
      "source": [
        "#Mean of the array\n",
        "print(\"Mean value of the array\")\n",
        "print(np.mean(arr1))\n"
      ]
    },
    {
      "cell_type": "code",
      "execution_count": null,
      "id": "1f26907f-15a1-4cd1-967f-ba7d1cd7ba27",
      "metadata": {
        "id": "1f26907f-15a1-4cd1-967f-ba7d1cd7ba27",
        "outputId": "38b8e75d-c943-4078-e6ae-fc5e76e95ea1"
      },
      "outputs": [
        {
          "name": "stdout",
          "output_type": "stream",
          "text": [
            "Median value of the array\n",
            "36.0\n"
          ]
        }
      ],
      "source": [
        "#Median of the array\n",
        "print(\"Median value of the array\")\n",
        "print(np.median(arr1))"
      ]
    },
    {
      "cell_type": "code",
      "execution_count": null,
      "id": "9142b2df-5b19-4e45-9178-c4a23010f9c6",
      "metadata": {
        "id": "9142b2df-5b19-4e45-9178-c4a23010f9c6",
        "outputId": "77103ad2-15d2-4645-e393-a4eaeeebc6aa"
      },
      "outputs": [
        {
          "name": "stdout",
          "output_type": "stream",
          "text": [
            "Standard Deviation of the array\n",
            "31.987653868328636\n"
          ]
        }
      ],
      "source": [
        "#Standard Deviation of the array\n",
        "print(\"Standard Deviation of the array\")\n",
        "print(np.std(arr1))"
      ]
    },
    {
      "cell_type": "code",
      "execution_count": null,
      "id": "43bdbbfd-bc51-4021-82e1-e9fc1138c1ce",
      "metadata": {
        "id": "43bdbbfd-bc51-4021-82e1-e9fc1138c1ce",
        "outputId": "bd7f09bf-565a-4770-a1d6-251deb934683"
      },
      "outputs": [
        {
          "name": "stdout",
          "output_type": "stream",
          "text": [
            "Variance of the array\n",
            "757.65\n"
          ]
        }
      ],
      "source": [
        "#Variance of the array\n",
        "print(\"Variance of the array\")\n",
        "print(np.var(arr1))"
      ]
    },
    {
      "cell_type": "code",
      "execution_count": null,
      "id": "4462581d-8149-4742-99e1-e962768d0efd",
      "metadata": {
        "id": "4462581d-8149-4742-99e1-e962768d0efd",
        "outputId": "35f83429-c4f8-4664-cf03-a471d47a6ecc"
      },
      "outputs": [
        {
          "name": "stdout",
          "output_type": "stream",
          "text": [
            "Product of the array\n",
            "411890432\n"
          ]
        }
      ],
      "source": [
        "#Productof the array\n",
        "print(\"Product of the array\")\n",
        "print(np.prod(arr1))"
      ]
    },
    {
      "cell_type": "code",
      "execution_count": null,
      "id": "9d49bce6-92d9-4cec-b272-8d74599d12a8",
      "metadata": {
        "id": "9d49bce6-92d9-4cec-b272-8d74599d12a8",
        "outputId": "4f74c1d4-b75d-4171-a4b8-72b46012f274"
      },
      "outputs": [
        {
          "name": "stdout",
          "output_type": "stream",
          "text": [
            "Cumulative Sum of the array\n",
            "[ 42 124 154 177 187 248 299 303 385 395]\n"
          ]
        }
      ],
      "source": [
        "#Cumulative Sum of the array\n",
        "print(\"Cumulative Sum of the array\")\n",
        "print(np.cumsum(arr1))"
      ]
    },
    {
      "cell_type": "code",
      "execution_count": null,
      "id": "9e752185-24cc-4a61-a453-3f8822b4db26",
      "metadata": {
        "id": "9e752185-24cc-4a61-a453-3f8822b4db26",
        "outputId": "5c08bb43-5463-40de-8ab4-5641a7ca54e2"
      },
      "outputs": [
        {
          "name": "stdout",
          "output_type": "stream",
          "text": [
            "Cumulative Product of the array\n",
            "[        42       3444     103320    2376360   23763600 1449579600\n",
            "  914115568 -638505024 -817804416  411890432]\n"
          ]
        }
      ],
      "source": [
        "#Cumulative Product of the array\n",
        "print(\"Cumulative Product of the array\")\n",
        "print(np.cumprod(arr1))"
      ]
    },
    {
      "cell_type": "code",
      "execution_count": null,
      "id": "bc8adee2-ea95-48d6-b1c3-c11af0e72dca",
      "metadata": {
        "id": "bc8adee2-ea95-48d6-b1c3-c11af0e72dca",
        "outputId": "2a2539b6-a748-41c5-e320-e7c30547b47b"
      },
      "outputs": [
        {
          "name": "stdout",
          "output_type": "stream",
          "text": [
            "Percentile of the array\n"
          ]
        },
        {
          "data": {
            "text/plain": [
              "36.0"
            ]
          },
          "execution_count": 179,
          "metadata": {},
          "output_type": "execute_result"
        }
      ],
      "source": [
        "#Percentile of the array\n",
        "print(\"Percentile of the array\")\n",
        "np.percentile(arr1,50)"
      ]
    },
    {
      "cell_type": "markdown",
      "id": "fd7e6a8d-9270-4c25-843f-1b35c3e9af47",
      "metadata": {
        "id": "fd7e6a8d-9270-4c25-843f-1b35c3e9af47"
      },
      "source": [
        "Data Analysis using numpy"
      ]
    },
    {
      "cell_type": "code",
      "execution_count": null,
      "id": "2acffeb7-ecf2-488f-89a1-6c4e1cf64ba5",
      "metadata": {
        "id": "2acffeb7-ecf2-488f-89a1-6c4e1cf64ba5"
      },
      "outputs": [],
      "source": [
        "#Generating two large datasets\n",
        "data1=np.random.rand(1000000)\n",
        "data2=0.1*data1 + np.random.rand(1000000)*0.1\n"
      ]
    },
    {
      "cell_type": "code",
      "execution_count": null,
      "id": "ed44e3b7-84e3-4f54-94cd-ee3a0fe5bdc6",
      "metadata": {
        "id": "ed44e3b7-84e3-4f54-94cd-ee3a0fe5bdc6",
        "outputId": "0702f9ed-c8aa-453d-91de-e39af7be568e"
      },
      "outputs": [
        {
          "data": {
            "text/plain": [
              "array([0.31869265, 0.98678722, 0.68401622, ..., 0.26870889, 0.31653988,\n",
              "       0.08508693])"
            ]
          },
          "execution_count": 186,
          "metadata": {},
          "output_type": "execute_result"
        }
      ],
      "source": [
        "data1"
      ]
    },
    {
      "cell_type": "code",
      "execution_count": null,
      "id": "d0161e97-8a59-4f7e-8050-6b1575f9a70b",
      "metadata": {
        "id": "d0161e97-8a59-4f7e-8050-6b1575f9a70b",
        "outputId": "0a5f5013-6f2b-417b-e7f5-cf41a8186454"
      },
      "outputs": [
        {
          "data": {
            "text/plain": [
              "array([0.12017988, 0.12562   , 0.16340455, ..., 0.04953158, 0.05296569,\n",
              "       0.03282584])"
            ]
          },
          "execution_count": 190,
          "metadata": {},
          "output_type": "execute_result"
        }
      ],
      "source": [
        "data2"
      ]
    },
    {
      "cell_type": "code",
      "execution_count": null,
      "id": "5b72a75f-34d7-435a-92e1-a57081506c52",
      "metadata": {
        "id": "5b72a75f-34d7-435a-92e1-a57081506c52",
        "outputId": "3c0bf552-2424-4b82-a4d0-43ddcce44eb3"
      },
      "outputs": [
        {
          "data": {
            "text/plain": [
              "0.7070486239491695"
            ]
          },
          "execution_count": 194,
          "metadata": {},
          "output_type": "execute_result"
        }
      ],
      "source": [
        "#Co-relation of the datas\n",
        "co_mat=np.corrcoef(data1,data2)\n",
        "co_mat[0,1]"
      ]
    },
    {
      "cell_type": "code",
      "execution_count": null,
      "id": "5129926a-8861-404b-a5e0-200b0efef54d",
      "metadata": {
        "id": "5129926a-8861-404b-a5e0-200b0efef54d"
      },
      "outputs": [],
      "source": [
        "#Calculating Percentiles\n",
        "data=np.random.randn(1000000)\n",
        "\n",
        "percentiles=np.percentile(data,[25,50,75])"
      ]
    },
    {
      "cell_type": "code",
      "execution_count": null,
      "id": "c924cdfd-0732-4cd1-9646-fa9755062cda",
      "metadata": {
        "id": "c924cdfd-0732-4cd1-9646-fa9755062cda",
        "outputId": "f9da6ecc-9ee1-42e3-f6cb-c10bb0b0957f"
      },
      "outputs": [
        {
          "data": {
            "text/plain": [
              "array([-6.73489274e-01, -2.56438795e-04,  6.73844579e-01])"
            ]
          },
          "execution_count": 208,
          "metadata": {},
          "output_type": "execute_result"
        }
      ],
      "source": [
        "percentiles"
      ]
    },
    {
      "cell_type": "code",
      "execution_count": null,
      "id": "ff2c9b0f-3e20-4786-8d9d-2fba67d55e0c",
      "metadata": {
        "id": "ff2c9b0f-3e20-4786-8d9d-2fba67d55e0c"
      },
      "outputs": [],
      "source": []
    }
  ],
  "metadata": {
    "kernelspec": {
      "display_name": "Python 3 (ipykernel)",
      "language": "python",
      "name": "python3"
    },
    "language_info": {
      "codemirror_mode": {
        "name": "ipython",
        "version": 3
      },
      "file_extension": ".py",
      "mimetype": "text/x-python",
      "name": "python",
      "nbconvert_exporter": "python",
      "pygments_lexer": "ipython3",
      "version": "3.12.4"
    },
    "colab": {
      "provenance": []
    }
  },
  "nbformat": 4,
  "nbformat_minor": 5
}